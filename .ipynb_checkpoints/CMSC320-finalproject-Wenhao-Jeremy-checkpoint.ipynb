{
 "cells": [
  {
   "cell_type": "markdown",
   "metadata": {},
   "source": [
    "# CMSC320 Spring 2017: Final Tutorial\n",
    "## Wenhao Wang & Jeremy Choi"
   ]
  },
  {
   "cell_type": "markdown",
   "metadata": {},
   "source": [
    "# Introduction and Overview\n",
    "Question: what factors correlate strongest with high gross or high rating?\n",
    "\n",
    "Plot gross against relevant factors, then plot rating against relevant factors, and describe the relationships.\n",
    "\n",
    "Plot country of origin on map.\n",
    "\n",
    "Use machine learning (linear regression, random forests, support vector machine) to make a model that predicts gross or rating."
   ]
  },
  {
   "cell_type": "markdown",
   "metadata": {},
   "source": [
    "# Data Curation and Parsing\n",
    "Description of the scraping script."
   ]
  },
  {
   "cell_type": "code",
   "execution_count": 2,
   "metadata": {
    "collapsed": false
   },
   "outputs": [],
   "source": [
    "import re\n",
    "import string\n",
    "import requests\n",
    "import pandas as pd\n",
    "import numpy as np\n",
    "from bs4 import BeautifulSoup\n",
    "\n",
    "#Get the URL\n",
    "r = requests.get('http://www.imdb.com/chart/top?ref_=nv_mv_250_6')\n",
    "#Get text from the URL\n",
    "html = r.text\n",
    "#Use BeautifulSoup to read and parse the data to lxml\n",
    "soup = BeautifulSoup(html, 'lxml')\n",
    "\n",
    "movies = soup.select('td.titleColumn')\n",
    "links = [a.attrs.get('href') for a in soup.select('td.titleColumn a')]\n",
    "directorAndActors = [a.attrs.get('title') for a in soup.select('td.titleColumn a')]\n",
    "ratings = [b.attrs.get('data-value') for b in soup.select('td.posterColumn span[name=ir]')]\n",
    "ids = [b.attrs.get('data-tconst') for b in soup.select('td.watchlistColumn div[class=wlb_ribbon]')]\n",
    "\n",
    "resultList = []\n",
    "linkList = []\n",
    "idList = []\n",
    "for i in range(0, len(movies)):\n",
    "    tempList = []\n",
    "    movie_string = movies[i].get_text()\n",
    "    movie = (' '.join(movie_string.split()).replace('.', ''))\n",
    "    movie_title = movie[len(str(i))+1:-7]\n",
    "    year = re.search('\\((.*?)\\)', movie_string).group(1)\n",
    "    \n",
    "    if (i < 10):\n",
    "        rank = movie[0]\n",
    "    elif (i < 100):\n",
    "        rank = movie[0]+movie[1]\n",
    "    else:\n",
    "        rank = movie[0]+movie[1]+movie[2]\n",
    "        \n",
    "    director = directorAndActors[i].split(\",\")\n",
    "    director = director[0].split(\" (\")\n",
    "    \n",
    "    tempList.append(int(rank))\n",
    "    tempList.append(movie_title)\n",
    "    tempList.append(int(year))\n",
    "    tempList.append(director[0])\n",
    "    tempList.append(float(ratings[i]))\n",
    "    \n",
    "    idList.append(ids[i])\n",
    "    \n",
    "    tempR = requests.get(\"http://www.imdb.com\"+links[i])\n",
    "    tempHtml = tempR.text \n",
    "    tempSoup = BeautifulSoup(tempHtml, 'lxml')\n",
    "\n",
    "    rateVotes = tempSoup.select('span[class=small]')\n",
    "    tempList.append(int(rateVotes[0].get_text().replace(',', '')))\n",
    "    \n",
    "    budget = tempSoup.select('div.txt-block')\n",
    "    for n in range(0, len(budget)):\n",
    "        if (str(budget[n].getText().split(\"h4\")).find(\"udget\") > -1 and\n",
    "           str(budget[n].getText().split(\"h4\")).find(\"$\") > -1):\n",
    "            tempList.append(int(str(budget[n].getText().split(\"h4\")).split(\"$\")[1].split(\" \")[0].replace(',', '')))\n",
    "            break\n",
    "            \n",
    "        if (n == len(budget)-1):\n",
    "            tempList.append(0)\n",
    "            break\n",
    "    \n",
    "    gross = tempSoup.select('div.txt-block')\n",
    "    for o in range(0, len(gross)):\n",
    "        if (str(gross[o].getText().split(\"h4\")).find(\"ross\") > -1 and\n",
    "           str(gross[o].getText().split(\"h4\")).find(\"$\") > -1):\n",
    "            tempList.append(int(str(gross[o].getText().split(\"h4\")).split(\"$\")[1].split(\" \")[0].replace(',', '')))\n",
    "            break\n",
    "            \n",
    "        if (o == len(gross)-2):\n",
    "            tempList.append(0)\n",
    "            break\n",
    "\n",
    "    genres = tempSoup.select('span[itemprop=genre]')\n",
    "    tempstr = \"\"\n",
    "    for j in range(0, len(genres)):\n",
    "        tempstr = tempstr + genres[j].get_text() +\", \"\n",
    "    tempList.append(tempstr)\n",
    "\n",
    "    writers = tempSoup.select('div.credit_summary_item span[itemprop=creator]')\n",
    "    tempstr = \"\"\n",
    "    for q in range(0, len(writers)):\n",
    "        tempstr = tempstr + writers[q].get_text().split(\"\\n\")[1].split(\" (\")[0]+\", \"\n",
    "    tempList.append(tempstr)\n",
    "\n",
    "    stars = tempSoup.select('div.credit_summary_item span[itemprop=actors]')\n",
    "    tempstr = \"\"\n",
    "    for k in range(0, len(stars)):\n",
    "        tempstr = tempstr + stars[k].get_text().split(\"\\n\")[1].strip()+\" \"\n",
    "    tempList.append(tempstr)\n",
    "    \n",
    "    country = tempSoup.select('div.txt-block a[itemprop=url]')\n",
    "    tempstr = \"\"\n",
    "    for l in range(0, len(country)):\n",
    "        if (str(country[l]).find(\"/title?country_of_origin\") > -1):\n",
    "            tempstr = tempstr + country[l].getText()+\", \"\n",
    "    tempList.append(tempstr)\n",
    "    \n",
    "    color = tempSoup.select('div.txt-block a[itemprop=url]')\n",
    "    for m in range(0, len(color)):\n",
    "        if (str(color[m]).find(\"/title?colors\") > -1):\n",
    "            tempList.append(color[m].getText())\n",
    "            break\n",
    "    \n",
    "    production = tempSoup.select('div.txt-block span[itemprop=name]')\n",
    "    tempstr = \"\"\n",
    "    for p in range(0, len(production)):\n",
    "        tempstr = tempstr + production[p].getText()+\", \"\n",
    "    tempList.append(tempstr)\n",
    "    \n",
    "    linkList.append(\"http://www.imdb.com/\"+links[i])\n",
    "    resultList.append(tempList)\n",
    "\n",
    "data_columns = [\"rank\",\"title\",\"year\",\"director\",\"rating\", \"votes\",\"budget\",\"gross\",\"genres\",\n",
    "                \"writers\",\"actors\",\"country\",\"color\",\"production_co\"]\n",
    "\n",
    "# Create a dataframe with Pandas\n",
    "df = pd.DataFrame(resultList, columns=data_columns)"
   ]
  },
  {
   "cell_type": "code",
   "execution_count": 3,
   "metadata": {
    "collapsed": false
   },
   "outputs": [
    {
     "name": "stdout",
     "output_type": "stream",
     "text": [
      "<class 'pandas.core.frame.DataFrame'>\n",
      "RangeIndex: 250 entries, 0 to 249\n",
      "Data columns (total 14 columns):\n",
      "rank             250 non-null int64\n",
      "title            250 non-null object\n",
      "year             250 non-null int64\n",
      "director         250 non-null object\n",
      "rating           250 non-null float64\n",
      "votes            250 non-null int64\n",
      "budget           250 non-null int64\n",
      "gross            250 non-null int64\n",
      "genres           250 non-null object\n",
      "writers          250 non-null object\n",
      "actors           250 non-null object\n",
      "country          250 non-null object\n",
      "color            250 non-null object\n",
      "production_co    249 non-null object\n",
      "dtypes: float64(1), int64(5), object(8)\n",
      "memory usage: 27.4+ KB\n"
     ]
    },
    {
     "data": {
      "text/html": [
       "<div>\n",
       "<table border=\"1\" class=\"dataframe\">\n",
       "  <thead>\n",
       "    <tr style=\"text-align: right;\">\n",
       "      <th></th>\n",
       "      <th>rank</th>\n",
       "      <th>title</th>\n",
       "      <th>year</th>\n",
       "      <th>director</th>\n",
       "      <th>rating</th>\n",
       "      <th>votes</th>\n",
       "      <th>budget</th>\n",
       "      <th>gross</th>\n",
       "      <th>genres</th>\n",
       "      <th>writers</th>\n",
       "      <th>actors</th>\n",
       "      <th>country</th>\n",
       "      <th>color</th>\n",
       "      <th>production_co</th>\n",
       "    </tr>\n",
       "  </thead>\n",
       "  <tbody>\n",
       "    <tr>\n",
       "      <th>0</th>\n",
       "      <td>1</td>\n",
       "      <td>The Shawshank Redemption</td>\n",
       "      <td>1994</td>\n",
       "      <td>Frank Darabont</td>\n",
       "      <td>9.215808</td>\n",
       "      <td>1809017</td>\n",
       "      <td>25000000</td>\n",
       "      <td>28341469</td>\n",
       "      <td>Crime, Drama,</td>\n",
       "      <td>Stephen King, Frank Darabont,</td>\n",
       "      <td>Tim Robbins, Morgan Freeman, Bob Gunton</td>\n",
       "      <td>USA,</td>\n",
       "      <td>Color</td>\n",
       "      <td>Castle Rock Entertainment,</td>\n",
       "    </tr>\n",
       "    <tr>\n",
       "      <th>1</th>\n",
       "      <td>2</td>\n",
       "      <td>The Godfather</td>\n",
       "      <td>1972</td>\n",
       "      <td>Francis Ford Coppola</td>\n",
       "      <td>9.161330</td>\n",
       "      <td>1235386</td>\n",
       "      <td>6000000</td>\n",
       "      <td>134821952</td>\n",
       "      <td>Crime, Drama,</td>\n",
       "      <td>Mario Puzo, Francis Ford Coppola,</td>\n",
       "      <td>Marlon Brando, Al Pacino, James Caan</td>\n",
       "      <td>USA,</td>\n",
       "      <td>Color</td>\n",
       "      <td>Paramount Pictures, Alfran Productions,</td>\n",
       "    </tr>\n",
       "    <tr>\n",
       "      <th>2</th>\n",
       "      <td>3</td>\n",
       "      <td>The Godfather: Part II</td>\n",
       "      <td>1974</td>\n",
       "      <td>Francis Ford Coppola</td>\n",
       "      <td>8.998491</td>\n",
       "      <td>850138</td>\n",
       "      <td>13000000</td>\n",
       "      <td>57300000</td>\n",
       "      <td>Crime, Drama,</td>\n",
       "      <td>Francis Ford Coppola, Mario Puzo,</td>\n",
       "      <td>Al Pacino, Robert De Niro, Robert Duvall</td>\n",
       "      <td>USA,</td>\n",
       "      <td>Color</td>\n",
       "      <td>Paramount Pictures, The Coppola Company,</td>\n",
       "    </tr>\n",
       "    <tr>\n",
       "      <th>3</th>\n",
       "      <td>4</td>\n",
       "      <td>The Dark Knight</td>\n",
       "      <td>2008</td>\n",
       "      <td>Christopher Nolan</td>\n",
       "      <td>8.948640</td>\n",
       "      <td>1789133</td>\n",
       "      <td>185000000</td>\n",
       "      <td>533316061</td>\n",
       "      <td>Action, Crime, Drama,</td>\n",
       "      <td>Jonathan Nolan, Christopher Nolan,</td>\n",
       "      <td>Christian Bale, Heath Ledger, Aaron Eckhart</td>\n",
       "      <td>USA, UK,</td>\n",
       "      <td>Color</td>\n",
       "      <td>Warner Bros., Legendary Entertainment, Syncopy,</td>\n",
       "    </tr>\n",
       "    <tr>\n",
       "      <th>4</th>\n",
       "      <td>5</td>\n",
       "      <td>12 Angry Men</td>\n",
       "      <td>1957</td>\n",
       "      <td>Sidney Lumet</td>\n",
       "      <td>8.899444</td>\n",
       "      <td>489943</td>\n",
       "      <td>350000</td>\n",
       "      <td>0</td>\n",
       "      <td>Crime, Drama,</td>\n",
       "      <td>Reginald Rose, Reginald Rose,</td>\n",
       "      <td>Henry Fonda, Lee J. Cobb, Martin Balsam</td>\n",
       "      <td>USA,</td>\n",
       "      <td>Black and White</td>\n",
       "      <td>Orion-Nova Productions,</td>\n",
       "    </tr>\n",
       "  </tbody>\n",
       "</table>\n",
       "</div>"
      ],
      "text/plain": [
       "   rank                     title  year              director    rating  \\\n",
       "0     1  The Shawshank Redemption  1994        Frank Darabont  9.215808   \n",
       "1     2             The Godfather  1972  Francis Ford Coppola  9.161330   \n",
       "2     3    The Godfather: Part II  1974  Francis Ford Coppola  8.998491   \n",
       "3     4           The Dark Knight  2008     Christopher Nolan  8.948640   \n",
       "4     5              12 Angry Men  1957          Sidney Lumet  8.899444   \n",
       "\n",
       "     votes     budget      gross                  genres  \\\n",
       "0  1809017   25000000   28341469          Crime, Drama,    \n",
       "1  1235386    6000000  134821952          Crime, Drama,    \n",
       "2   850138   13000000   57300000          Crime, Drama,    \n",
       "3  1789133  185000000  533316061  Action, Crime, Drama,    \n",
       "4   489943     350000          0          Crime, Drama,    \n",
       "\n",
       "                               writers  \\\n",
       "0       Stephen King, Frank Darabont,    \n",
       "1   Mario Puzo, Francis Ford Coppola,    \n",
       "2   Francis Ford Coppola, Mario Puzo,    \n",
       "3  Jonathan Nolan, Christopher Nolan,    \n",
       "4       Reginald Rose, Reginald Rose,    \n",
       "\n",
       "                                         actors    country             color  \\\n",
       "0      Tim Robbins, Morgan Freeman, Bob Gunton       USA,              Color   \n",
       "1         Marlon Brando, Al Pacino, James Caan       USA,              Color   \n",
       "2     Al Pacino, Robert De Niro, Robert Duvall       USA,              Color   \n",
       "3  Christian Bale, Heath Ledger, Aaron Eckhart   USA, UK,              Color   \n",
       "4      Henry Fonda, Lee J. Cobb, Martin Balsam       USA,    Black and White   \n",
       "\n",
       "                                      production_co  \n",
       "0                       Castle Rock Entertainment,   \n",
       "1          Paramount Pictures, Alfran Productions,   \n",
       "2         Paramount Pictures, The Coppola Company,   \n",
       "3  Warner Bros., Legendary Entertainment, Syncopy,   \n",
       "4                          Orion-Nova Productions,   "
      ]
     },
     "execution_count": 3,
     "metadata": {},
     "output_type": "execute_result"
    }
   ],
   "source": [
    "df.info()\n",
    "df.head()"
   ]
  },
  {
   "cell_type": "markdown",
   "metadata": {},
   "source": [
    "# Data Management\n",
    "This section involves handling missing data. We elected to simply remove rows where votes, budget, or gross are missing, to ensure we are using a consistent set of data for our visualizations."
   ]
  },
  {
   "cell_type": "code",
   "execution_count": 4,
   "metadata": {
    "collapsed": false
   },
   "outputs": [
    {
     "name": "stdout",
     "output_type": "stream",
     "text": [
      "<class 'pandas.core.frame.DataFrame'>\n",
      "Int64Index: 161 entries, 0 to 248\n",
      "Data columns (total 14 columns):\n",
      "rank             161 non-null int64\n",
      "title            161 non-null object\n",
      "year             161 non-null int64\n",
      "director         161 non-null object\n",
      "rating           161 non-null float64\n",
      "votes            161 non-null int64\n",
      "budget           161 non-null int64\n",
      "gross            161 non-null int64\n",
      "genres           161 non-null object\n",
      "writers          161 non-null object\n",
      "actors           161 non-null object\n",
      "country          161 non-null object\n",
      "color            161 non-null object\n",
      "production_co    161 non-null object\n",
      "dtypes: float64(1), int64(5), object(8)\n",
      "memory usage: 18.9+ KB\n"
     ]
    },
    {
     "data": {
      "text/html": [
       "<div>\n",
       "<table border=\"1\" class=\"dataframe\">\n",
       "  <thead>\n",
       "    <tr style=\"text-align: right;\">\n",
       "      <th></th>\n",
       "      <th>rank</th>\n",
       "      <th>title</th>\n",
       "      <th>year</th>\n",
       "      <th>director</th>\n",
       "      <th>rating</th>\n",
       "      <th>votes</th>\n",
       "      <th>budget</th>\n",
       "      <th>gross</th>\n",
       "      <th>genres</th>\n",
       "      <th>writers</th>\n",
       "      <th>actors</th>\n",
       "      <th>country</th>\n",
       "      <th>color</th>\n",
       "      <th>production_co</th>\n",
       "    </tr>\n",
       "  </thead>\n",
       "  <tbody>\n",
       "    <tr>\n",
       "      <th>0</th>\n",
       "      <td>1</td>\n",
       "      <td>The Shawshank Redemption</td>\n",
       "      <td>1994</td>\n",
       "      <td>Frank Darabont</td>\n",
       "      <td>9.215808</td>\n",
       "      <td>1809017</td>\n",
       "      <td>25000000</td>\n",
       "      <td>28341469</td>\n",
       "      <td>Crime, Drama,</td>\n",
       "      <td>Stephen King, Frank Darabont,</td>\n",
       "      <td>Tim Robbins, Morgan Freeman, Bob Gunton</td>\n",
       "      <td>USA,</td>\n",
       "      <td>Color</td>\n",
       "      <td>Castle Rock Entertainment,</td>\n",
       "    </tr>\n",
       "    <tr>\n",
       "      <th>1</th>\n",
       "      <td>2</td>\n",
       "      <td>The Godfather</td>\n",
       "      <td>1972</td>\n",
       "      <td>Francis Ford Coppola</td>\n",
       "      <td>9.161330</td>\n",
       "      <td>1235386</td>\n",
       "      <td>6000000</td>\n",
       "      <td>134821952</td>\n",
       "      <td>Crime, Drama,</td>\n",
       "      <td>Mario Puzo, Francis Ford Coppola,</td>\n",
       "      <td>Marlon Brando, Al Pacino, James Caan</td>\n",
       "      <td>USA,</td>\n",
       "      <td>Color</td>\n",
       "      <td>Paramount Pictures, Alfran Productions,</td>\n",
       "    </tr>\n",
       "    <tr>\n",
       "      <th>2</th>\n",
       "      <td>3</td>\n",
       "      <td>The Godfather: Part II</td>\n",
       "      <td>1974</td>\n",
       "      <td>Francis Ford Coppola</td>\n",
       "      <td>8.998491</td>\n",
       "      <td>850138</td>\n",
       "      <td>13000000</td>\n",
       "      <td>57300000</td>\n",
       "      <td>Crime, Drama,</td>\n",
       "      <td>Francis Ford Coppola, Mario Puzo,</td>\n",
       "      <td>Al Pacino, Robert De Niro, Robert Duvall</td>\n",
       "      <td>USA,</td>\n",
       "      <td>Color</td>\n",
       "      <td>Paramount Pictures, The Coppola Company,</td>\n",
       "    </tr>\n",
       "    <tr>\n",
       "      <th>3</th>\n",
       "      <td>4</td>\n",
       "      <td>The Dark Knight</td>\n",
       "      <td>2008</td>\n",
       "      <td>Christopher Nolan</td>\n",
       "      <td>8.948640</td>\n",
       "      <td>1789133</td>\n",
       "      <td>185000000</td>\n",
       "      <td>533316061</td>\n",
       "      <td>Action, Crime, Drama,</td>\n",
       "      <td>Jonathan Nolan, Christopher Nolan,</td>\n",
       "      <td>Christian Bale, Heath Ledger, Aaron Eckhart</td>\n",
       "      <td>USA, UK,</td>\n",
       "      <td>Color</td>\n",
       "      <td>Warner Bros., Legendary Entertainment, Syncopy,</td>\n",
       "    </tr>\n",
       "    <tr>\n",
       "      <th>5</th>\n",
       "      <td>6</td>\n",
       "      <td>Schindler's List</td>\n",
       "      <td>1993</td>\n",
       "      <td>Steven Spielberg</td>\n",
       "      <td>8.896253</td>\n",
       "      <td>928508</td>\n",
       "      <td>22000000</td>\n",
       "      <td>96067179</td>\n",
       "      <td>Biography, Drama, History,</td>\n",
       "      <td>Thomas Keneally, Steven Zaillian,</td>\n",
       "      <td>Liam Neeson, Ralph Fiennes, Ben Kingsley</td>\n",
       "      <td>USA,</td>\n",
       "      <td>Black and White</td>\n",
       "      <td>Universal Pictures, Amblin Entertainment,</td>\n",
       "    </tr>\n",
       "  </tbody>\n",
       "</table>\n",
       "</div>"
      ],
      "text/plain": [
       "   rank                     title  year              director    rating  \\\n",
       "0     1  The Shawshank Redemption  1994        Frank Darabont  9.215808   \n",
       "1     2             The Godfather  1972  Francis Ford Coppola  9.161330   \n",
       "2     3    The Godfather: Part II  1974  Francis Ford Coppola  8.998491   \n",
       "3     4           The Dark Knight  2008     Christopher Nolan  8.948640   \n",
       "5     6          Schindler's List  1993      Steven Spielberg  8.896253   \n",
       "\n",
       "     votes     budget      gross                       genres  \\\n",
       "0  1809017   25000000   28341469               Crime, Drama,    \n",
       "1  1235386    6000000  134821952               Crime, Drama,    \n",
       "2   850138   13000000   57300000               Crime, Drama,    \n",
       "3  1789133  185000000  533316061       Action, Crime, Drama,    \n",
       "5   928508   22000000   96067179  Biography, Drama, History,    \n",
       "\n",
       "                               writers  \\\n",
       "0       Stephen King, Frank Darabont,    \n",
       "1   Mario Puzo, Francis Ford Coppola,    \n",
       "2   Francis Ford Coppola, Mario Puzo,    \n",
       "3  Jonathan Nolan, Christopher Nolan,    \n",
       "5   Thomas Keneally, Steven Zaillian,    \n",
       "\n",
       "                                         actors    country             color  \\\n",
       "0      Tim Robbins, Morgan Freeman, Bob Gunton       USA,              Color   \n",
       "1         Marlon Brando, Al Pacino, James Caan       USA,              Color   \n",
       "2     Al Pacino, Robert De Niro, Robert Duvall       USA,              Color   \n",
       "3  Christian Bale, Heath Ledger, Aaron Eckhart   USA, UK,              Color   \n",
       "5     Liam Neeson, Ralph Fiennes, Ben Kingsley       USA,    Black and White   \n",
       "\n",
       "                                      production_co  \n",
       "0                       Castle Rock Entertainment,   \n",
       "1          Paramount Pictures, Alfran Productions,   \n",
       "2         Paramount Pictures, The Coppola Company,   \n",
       "3  Warner Bros., Legendary Entertainment, Syncopy,   \n",
       "5        Universal Pictures, Amblin Entertainment,   "
      ]
     },
     "execution_count": 4,
     "metadata": {},
     "output_type": "execute_result"
    }
   ],
   "source": [
    "complete_df = df.loc[(df['votes'] > 0) & (df['budget'] > 0) & (df['gross'] > 0)]\n",
    "complete_df.info()\n",
    "complete_df.head()"
   ]
  },
  {
   "cell_type": "markdown",
   "metadata": {},
   "source": [
    "# Exploratory Data Analysis\n",
    "Now we can begin to visualize relationships between variables to learn about potentially interesting relationships between them."
   ]
  },
  {
   "cell_type": "markdown",
   "metadata": {},
   "source": [
    "## Ratings against other variables\n",
    "First, we would like to visualize the relationship between film ratings and some other variables to get a general idea of which variables would be the most interesting to pursue as features in a learned model."
   ]
  },
  {
   "cell_type": "markdown",
   "metadata": {},
   "source": [
    "### Sanity check: ratings against release years\n",
    "Newer movies are not necessarily better/worse just because they're newer, right?"
   ]
  },
  {
   "cell_type": "code",
   "execution_count": 5,
   "metadata": {
    "collapsed": false
   },
   "outputs": [
    {
     "data": {
      "image/png": "[encoded data removed]",
      "text/plain": [
       "<matplotlib.figure.Figure at 0x7f132fb80e48>"
      ]
     },
     "metadata": {},
     "output_type": "display_data"
    }
   ],
   "source": [
    "import matplotlib.pyplot as plt\n",
    "import seaborn as sns\n",
    "\n",
    "ax = sns.regplot(x=\"year\", y=\"rating\", data=complete_df)\n",
    "sns.plt.show()"
   ]
  },
  {
   "cell_type": "markdown",
   "metadata": {},
   "source": [
    "The relative flatness of the best fit line and the relatively random scatter of points seem to indicate that there is indeed no notable relationship between a film's release year and its IMDb rating. The clustering of points near the bottom right is likely just a reflection of the tendency for more recent movies to exist in the websites database (IMDb was launched in 1990) and perhaps the proliferation of film industries around the world in more recent years.\n",
    "\n",
    "Though, as a side note, the negative trend of the best fit line may say something about the degradation in quality of films with time."
   ]
  },
  {
   "cell_type": "markdown",
   "metadata": {},
   "source": [
    "### Ratings against budgets"
   ]
  },
  {
   "cell_type": "code",
   "execution_count": 6,
   "metadata": {
    "collapsed": false
   },
   "outputs": [
    {
     "data": {
      "image/png": "[encoded data removed]",
      "text/plain": [
       "<matplotlib.figure.Figure at 0x7f132f475160>"
      ]
     },
     "metadata": {},
     "output_type": "display_data"
    }
   ],
   "source": [
    "ax = sns.regplot(x=\"budget\", y=\"rating\", data=complete_df)\n",
    "sns.plt.show()"
   ]
  },
  {
   "cell_type": "markdown",
   "metadata": {},
   "source": [
    "The flatness of this line indicates that there is no strong relationship between rating and budget, whatsoever."
   ]
  },
  {
   "cell_type": "markdown",
   "metadata": {},
   "source": [
    "### Ratings against gross revenues"
   ]
  },
  {
   "cell_type": "code",
   "execution_count": 7,
   "metadata": {
    "collapsed": false
   },
   "outputs": [
    {
     "data": {
      "image/png": "[encoded data removed]",
      "text/plain": [
       "<matplotlib.figure.Figure at 0x7f13223183c8>"
      ]
     },
     "metadata": {},
     "output_type": "display_data"
    }
   ],
   "source": [
    "ax = sns.regplot(x=\"gross\", y=\"rating\", data=complete_df)\n",
    "sns.plt.show()"
   ]
  },
  {
   "cell_type": "markdown",
   "metadata": {},
   "source": [
    "Ratings do not seem to be very strongly correlated with the gross revenue of a film. Like budget, gross is another dollar value and varies dramatically. A logarithmic scale on the gross axis might be of use here."
   ]
  },
  {
   "cell_type": "markdown",
   "metadata": {},
   "source": [
    "### Ratings against IMDb votes"
   ]
  },
  {
   "cell_type": "code",
   "execution_count": 13,
   "metadata": {
    "collapsed": false,
    "scrolled": true
   },
   "outputs": [
    {
     "data": {
      "image/png": "[encoded data removed]",
      "text/plain": [
       "<matplotlib.figure.Figure at 0x7f13222a25c0>"
      ]
     },
     "metadata": {},
     "output_type": "display_data"
    }
   ],
   "source": [
    "ax = sns.regplot(x=\"votes\", y=\"rating\", data=complete_df)\n",
    "sns.plt.show()"
   ]
  },
  {
   "cell_type": "markdown",
   "metadata": {},
   "source": [
    "At a glance, this plot appears to have a much stronger correlation and with a tighter spread than the other plots. This probably means that people are more likely to rate the movie on a review site like IMDd if they internally rate the movie high, and less likely to rate if they internally rate the movie low.\n",
    "\n",
    "\"Votes\" seems to be a promising variable for predicting ratings of film."
   ]
  },
  {
   "cell_type": "markdown",
   "metadata": {},
   "source": [
    "## Determining financial \"success\" of a film"
   ]
  },
  {
   "cell_type": "markdown",
   "metadata": {},
   "source": [
    "### Sanity Check: gross revenues against budgets\n",
    "More money invested into the development of a film should, *in general*, correlate to a higher payout, right?"
   ]
  },
  {
   "cell_type": "code",
   "execution_count": 17,
   "metadata": {
    "collapsed": false
   },
   "outputs": [
    {
     "data": {
      "image/png": "[encoded data removed]",
      "text/plain": [
       "<matplotlib.figure.Figure at 0x7f13222748d0>"
      ]
     },
     "metadata": {},
     "output_type": "display_data"
    }
   ],
   "source": [
    "ax = sns.regplot(x=\"budget\", y=\"gross\", data=complete_df)\n",
    "sns.plt.show()"
   ]
  },
  {
   "cell_type": "markdown",
   "metadata": {},
   "source": [
    "The plot seems to reasonably indicate so. Now, as a metric for financial success of a film, we introduce a \"profit index\" that measures the payout of a film, given by the proportion of a film's gross revenue to its budget."
   ]
  },
  {
   "cell_type": "code",
   "execution_count": 21,
   "metadata": {
    "collapsed": false
   },
   "outputs": [
    {
     "name": "stderr",
     "output_type": "stream",
     "text": [
      "/home/jeremy/anaconda3/lib/python3.6/site-packages/ipykernel/__main__.py:1: SettingWithCopyWarning: \n",
      "A value is trying to be set on a copy of a slice from a DataFrame.\n",
      "Try using .loc[row_indexer,col_indexer] = value instead\n",
      "\n",
      "See the caveats in the documentation: http://pandas.pydata.org/pandas-docs/stable/indexing.html#indexing-view-versus-copy\n",
      "  if __name__ == '__main__':\n"
     ]
    },
    {
     "data": {
      "text/html": [
       "<div>\n",
       "<table border=\"1\" class=\"dataframe\">\n",
       "  <thead>\n",
       "    <tr style=\"text-align: right;\">\n",
       "      <th></th>\n",
       "      <th>rank</th>\n",
       "      <th>title</th>\n",
       "      <th>year</th>\n",
       "      <th>director</th>\n",
       "      <th>rating</th>\n",
       "      <th>votes</th>\n",
       "      <th>budget</th>\n",
       "      <th>gross</th>\n",
       "      <th>genres</th>\n",
       "      <th>writers</th>\n",
       "      <th>actors</th>\n",
       "      <th>country</th>\n",
       "      <th>color</th>\n",
       "      <th>production_co</th>\n",
       "      <th>profit_index</th>\n",
       "    </tr>\n",
       "  </thead>\n",
       "  <tbody>\n",
       "    <tr>\n",
       "      <th>0</th>\n",
       "      <td>1</td>\n",
       "      <td>The Shawshank Redemption</td>\n",
       "      <td>1994</td>\n",
       "      <td>Frank Darabont</td>\n",
       "      <td>9.215808</td>\n",
       "      <td>1809017</td>\n",
       "      <td>25000000</td>\n",
       "      <td>28341469</td>\n",
       "      <td>Crime, Drama,</td>\n",
       "      <td>Stephen King, Frank Darabont,</td>\n",
       "      <td>Tim Robbins, Morgan Freeman, Bob Gunton</td>\n",
       "      <td>USA,</td>\n",
       "      <td>Color</td>\n",
       "      <td>Castle Rock Entertainment,</td>\n",
       "      <td>1.133659</td>\n",
       "    </tr>\n",
       "    <tr>\n",
       "      <th>1</th>\n",
       "      <td>2</td>\n",
       "      <td>The Godfather</td>\n",
       "      <td>1972</td>\n",
       "      <td>Francis Ford Coppola</td>\n",
       "      <td>9.161330</td>\n",
       "      <td>1235386</td>\n",
       "      <td>6000000</td>\n",
       "      <td>134821952</td>\n",
       "      <td>Crime, Drama,</td>\n",
       "      <td>Mario Puzo, Francis Ford Coppola,</td>\n",
       "      <td>Marlon Brando, Al Pacino, James Caan</td>\n",
       "      <td>USA,</td>\n",
       "      <td>Color</td>\n",
       "      <td>Paramount Pictures, Alfran Productions,</td>\n",
       "      <td>22.470325</td>\n",
       "    </tr>\n",
       "    <tr>\n",
       "      <th>2</th>\n",
       "      <td>3</td>\n",
       "      <td>The Godfather: Part II</td>\n",
       "      <td>1974</td>\n",
       "      <td>Francis Ford Coppola</td>\n",
       "      <td>8.998491</td>\n",
       "      <td>850138</td>\n",
       "      <td>13000000</td>\n",
       "      <td>57300000</td>\n",
       "      <td>Crime, Drama,</td>\n",
       "      <td>Francis Ford Coppola, Mario Puzo,</td>\n",
       "      <td>Al Pacino, Robert De Niro, Robert Duvall</td>\n",
       "      <td>USA,</td>\n",
       "      <td>Color</td>\n",
       "      <td>Paramount Pictures, The Coppola Company,</td>\n",
       "      <td>4.407692</td>\n",
       "    </tr>\n",
       "    <tr>\n",
       "      <th>3</th>\n",
       "      <td>4</td>\n",
       "      <td>The Dark Knight</td>\n",
       "      <td>2008</td>\n",
       "      <td>Christopher Nolan</td>\n",
       "      <td>8.948640</td>\n",
       "      <td>1789133</td>\n",
       "      <td>185000000</td>\n",
       "      <td>533316061</td>\n",
       "      <td>Action, Crime, Drama,</td>\n",
       "      <td>Jonathan Nolan, Christopher Nolan,</td>\n",
       "      <td>Christian Bale, Heath Ledger, Aaron Eckhart</td>\n",
       "      <td>USA, UK,</td>\n",
       "      <td>Color</td>\n",
       "      <td>Warner Bros., Legendary Entertainment, Syncopy,</td>\n",
       "      <td>2.882790</td>\n",
       "    </tr>\n",
       "    <tr>\n",
       "      <th>5</th>\n",
       "      <td>6</td>\n",
       "      <td>Schindler's List</td>\n",
       "      <td>1993</td>\n",
       "      <td>Steven Spielberg</td>\n",
       "      <td>8.896253</td>\n",
       "      <td>928508</td>\n",
       "      <td>22000000</td>\n",
       "      <td>96067179</td>\n",
       "      <td>Biography, Drama, History,</td>\n",
       "      <td>Thomas Keneally, Steven Zaillian,</td>\n",
       "      <td>Liam Neeson, Ralph Fiennes, Ben Kingsley</td>\n",
       "      <td>USA,</td>\n",
       "      <td>Black and White</td>\n",
       "      <td>Universal Pictures, Amblin Entertainment,</td>\n",
       "      <td>4.366690</td>\n",
       "    </tr>\n",
       "  </tbody>\n",
       "</table>\n",
       "</div>"
      ],
      "text/plain": [
       "   rank                     title  year              director    rating  \\\n",
       "0     1  The Shawshank Redemption  1994        Frank Darabont  9.215808   \n",
       "1     2             The Godfather  1972  Francis Ford Coppola  9.161330   \n",
       "2     3    The Godfather: Part II  1974  Francis Ford Coppola  8.998491   \n",
       "3     4           The Dark Knight  2008     Christopher Nolan  8.948640   \n",
       "5     6          Schindler's List  1993      Steven Spielberg  8.896253   \n",
       "\n",
       "     votes     budget      gross                       genres  \\\n",
       "0  1809017   25000000   28341469               Crime, Drama,    \n",
       "1  1235386    6000000  134821952               Crime, Drama,    \n",
       "2   850138   13000000   57300000               Crime, Drama,    \n",
       "3  1789133  185000000  533316061       Action, Crime, Drama,    \n",
       "5   928508   22000000   96067179  Biography, Drama, History,    \n",
       "\n",
       "                               writers  \\\n",
       "0       Stephen King, Frank Darabont,    \n",
       "1   Mario Puzo, Francis Ford Coppola,    \n",
       "2   Francis Ford Coppola, Mario Puzo,    \n",
       "3  Jonathan Nolan, Christopher Nolan,    \n",
       "5   Thomas Keneally, Steven Zaillian,    \n",
       "\n",
       "                                         actors    country             color  \\\n",
       "0      Tim Robbins, Morgan Freeman, Bob Gunton       USA,              Color   \n",
       "1         Marlon Brando, Al Pacino, James Caan       USA,              Color   \n",
       "2     Al Pacino, Robert De Niro, Robert Duvall       USA,              Color   \n",
       "3  Christian Bale, Heath Ledger, Aaron Eckhart   USA, UK,              Color   \n",
       "5     Liam Neeson, Ralph Fiennes, Ben Kingsley       USA,    Black and White   \n",
       "\n",
       "                                      production_co  profit_index  \n",
       "0                       Castle Rock Entertainment,       1.133659  \n",
       "1          Paramount Pictures, Alfran Productions,      22.470325  \n",
       "2         Paramount Pictures, The Coppola Company,       4.407692  \n",
       "3  Warner Bros., Legendary Entertainment, Syncopy,       2.882790  \n",
       "5        Universal Pictures, Amblin Entertainment,       4.366690  "
      ]
     },
     "execution_count": 21,
     "metadata": {},
     "output_type": "execute_result"
    }
   ],
   "source": [
    "complete_df['profit_index'] = np.divide(complete_df['gross'], complete_df['budget'])\n",
    "complete_df.head()"
   ]
  },
  {
   "cell_type": "markdown",
   "metadata": {},
   "source": [
    "### Rating against profit index"
   ]
  },
  {
   "cell_type": "code",
   "execution_count": 25,
   "metadata": {
    "collapsed": false
   },
   "outputs": [
    {
     "data": {
      "image/png": "[encoded data removed]",
      "text/plain": [
       "<matplotlib.figure.Figure at 0x7f1322207e48>"
      ]
     },
     "metadata": {},
     "output_type": "display_data"
    }
   ],
   "source": [
    "ax = sns.regplot(x=\"profit_index\", y=\"budget\", data=complete_df)\n",
    "sns.plt.show()"
   ]
  },
  {
   "cell_type": "markdown",
   "metadata": {},
   "source": [
    "# Hypothesis Testing"
   ]
  },
  {
   "cell_type": "markdown",
   "metadata": {},
   "source": [
    "# Machine Learning"
   ]
  }
 ],
 "metadata": {
  "kernelspec": {
   "display_name": "Python 3",
   "language": "python",
   "name": "python3"
  },
  "language_info": {
   "codemirror_mode": {
    "name": "ipython",
    "version": 3
   },
   "file_extension": ".py",
   "mimetype": "text/x-python",
   "name": "python",
   "nbconvert_exporter": "python",
   "pygments_lexer": "ipython3",
   "version": "3.6.0"
  }
 },
 "nbformat": 4,
 "nbformat_minor": 2
}
